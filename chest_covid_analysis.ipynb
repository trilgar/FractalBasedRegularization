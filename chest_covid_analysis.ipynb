{
 "cells": [
  {
   "cell_type": "code",
   "id": "initial_id",
   "metadata": {
    "collapsed": true,
    "ExecuteTime": {
     "end_time": "2025-10-05T15:57:52.473004Z",
     "start_time": "2025-10-05T15:57:52.416630Z"
    }
   },
   "source": [
    "#!/usr/bin/env python\n",
    "# -*- coding: utf-8 -*-\n",
    "\n",
    "# 📘 Analyze distribution of target values in dataset\n",
    "\n",
    "import pandas as pd\n",
    "import matplotlib.pyplot as plt\n",
    "\n",
    "# --- Step 1: Load the dataset ---\n",
    "# Replace the path below with the path to your dataset if needed\n",
    "file_path = \"F:\\datasets\\Chest X-Ray\\\\train.txt\"\n",
    "\n",
    "# Try to read as space/tab/comma separated automatically\n",
    "df = pd.read_csv(file_path, sep=None, engine='python', header=None, names=[\"id\", \"filename\", \"target\", \"source\"])\n",
    "\n",
    "# --- Step 2: Display basic information ---\n",
    "df.head()\n",
    "\n"
   ],
   "outputs": [
    {
     "name": "stderr",
     "output_type": "stream",
     "text": [
      "<>:11: SyntaxWarning: invalid escape sequence '\\d'\n",
      "<>:11: SyntaxWarning: invalid escape sequence '\\d'\n",
      "C:\\Users\\zarit\\AppData\\Local\\Temp\\ipykernel_26296\\1442388040.py:11: SyntaxWarning: invalid escape sequence '\\d'\n",
      "  file_path = \"F:\\datasets\\Chest X-Ray\\\\train.txt\"\n"
     ]
    },
    {
     "data": {
      "text/plain": [
       "   id                                        filename    target source\n",
       "0   5                                  ARDSSevere.png  negative  cohen\n",
       "1  25  acute-respiratory-distress-syndrome-ards-1.jpg  negative  cohen\n",
       "2  26    acute-respiratory-distress-syndrome-ards.jpg  negative  cohen\n",
       "3  27          ards-secondary-to-tiger-snake-bite.png  negative  cohen\n",
       "4  28                 pneumocystis-pneumonia-2-PA.png  negative  cohen"
      ],
      "text/html": [
       "<div>\n",
       "<style scoped>\n",
       "    .dataframe tbody tr th:only-of-type {\n",
       "        vertical-align: middle;\n",
       "    }\n",
       "\n",
       "    .dataframe tbody tr th {\n",
       "        vertical-align: top;\n",
       "    }\n",
       "\n",
       "    .dataframe thead th {\n",
       "        text-align: right;\n",
       "    }\n",
       "</style>\n",
       "<table border=\"1\" class=\"dataframe\">\n",
       "  <thead>\n",
       "    <tr style=\"text-align: right;\">\n",
       "      <th></th>\n",
       "      <th>id</th>\n",
       "      <th>filename</th>\n",
       "      <th>target</th>\n",
       "      <th>source</th>\n",
       "    </tr>\n",
       "  </thead>\n",
       "  <tbody>\n",
       "    <tr>\n",
       "      <th>0</th>\n",
       "      <td>5</td>\n",
       "      <td>ARDSSevere.png</td>\n",
       "      <td>negative</td>\n",
       "      <td>cohen</td>\n",
       "    </tr>\n",
       "    <tr>\n",
       "      <th>1</th>\n",
       "      <td>25</td>\n",
       "      <td>acute-respiratory-distress-syndrome-ards-1.jpg</td>\n",
       "      <td>negative</td>\n",
       "      <td>cohen</td>\n",
       "    </tr>\n",
       "    <tr>\n",
       "      <th>2</th>\n",
       "      <td>26</td>\n",
       "      <td>acute-respiratory-distress-syndrome-ards.jpg</td>\n",
       "      <td>negative</td>\n",
       "      <td>cohen</td>\n",
       "    </tr>\n",
       "    <tr>\n",
       "      <th>3</th>\n",
       "      <td>27</td>\n",
       "      <td>ards-secondary-to-tiger-snake-bite.png</td>\n",
       "      <td>negative</td>\n",
       "      <td>cohen</td>\n",
       "    </tr>\n",
       "    <tr>\n",
       "      <th>4</th>\n",
       "      <td>28</td>\n",
       "      <td>pneumocystis-pneumonia-2-PA.png</td>\n",
       "      <td>negative</td>\n",
       "      <td>cohen</td>\n",
       "    </tr>\n",
       "  </tbody>\n",
       "</table>\n",
       "</div>"
      ]
     },
     "execution_count": 3,
     "metadata": {},
     "output_type": "execute_result"
    }
   ],
   "execution_count": 3
  },
  {
   "metadata": {
    "ExecuteTime": {
     "end_time": "2025-10-05T15:58:06.178218Z",
     "start_time": "2025-10-05T15:58:06.175357Z"
    }
   },
   "cell_type": "code",
   "source": [
    "\n",
    "print(f\"Total records: {len(df)}\")\n",
    "print(\"Columns:\", list(df.columns), \"\\n\")"
   ],
   "id": "eecad43aae4a2bc",
   "outputs": [
    {
     "name": "stdout",
     "output_type": "stream",
     "text": [
      "Total records: 29986\n",
      "Columns: ['id', 'filename', 'target', 'source'] \n",
      "\n"
     ]
    }
   ],
   "execution_count": 4
  },
  {
   "metadata": {
    "ExecuteTime": {
     "end_time": "2025-10-05T15:58:14.120806Z",
     "start_time": "2025-10-05T15:58:14.106324Z"
    }
   },
   "cell_type": "code",
   "source": [
    "# --- Step 3: Count occurrences of each target value ---\n",
    "target_counts = df['target'].value_counts()\n",
    "print(\"🔢 Target value counts:\")\n",
    "print(target_counts, \"\\n\")"
   ],
   "id": "b8017e112baec045",
   "outputs": [
    {
     "name": "stdout",
     "output_type": "stream",
     "text": [
      "🔢 Target value counts:\n",
      "target\n",
      "positive    15994\n",
      "negative    13992\n",
      "Name: count, dtype: int64 \n",
      "\n"
     ]
    }
   ],
   "execution_count": 5
  },
  {
   "metadata": {
    "ExecuteTime": {
     "end_time": "2025-10-05T15:58:18.046942Z",
     "start_time": "2025-10-05T15:58:17.927859Z"
    }
   },
   "cell_type": "code",
   "source": [
    "# --- Step 4: Visualize the distribution ---\n",
    "plt.figure(figsize=(6, 4))\n",
    "target_counts.plot(kind='bar', color=['#007acc', '#ff5050'])\n",
    "plt.title(\"Distribution of Target Values\")\n",
    "plt.xlabel(\"Target\")\n",
    "plt.ylabel(\"Count\")\n",
    "plt.xticks(rotation=0)\n",
    "plt.grid(axis='y', linestyle='--', alpha=0.6)\n",
    "plt.tight_layout()\n",
    "plt.show()\n",
    "\n",
    "# --- Step 5: Optional — show proportions ---\n",
    "print(\"📊 Target proportions (%):\")\n",
    "print((target_counts / len(df) * 100).round(2))"
   ],
   "id": "e89b083eca028d7b",
   "outputs": [
    {
     "data": {
      "text/plain": [
       "<Figure size 600x400 with 1 Axes>"
      ],
      "image/png": "[encoded data removed]"
     },
     "metadata": {},
     "output_type": "display_data",
     "jetTransient": {
      "display_id": null
     }
    },
    {
     "name": "stdout",
     "output_type": "stream",
     "text": [
      "📊 Target proportions (%):\n",
      "target\n",
      "positive    53.34\n",
      "negative    46.66\n",
      "Name: count, dtype: float64\n"
     ]
    }
   ],
   "execution_count": 6
  },
  {
   "metadata": {},
   "cell_type": "code",
   "outputs": [],
   "execution_count": null,
   "source": "",
   "id": "cd768499138eabb9"
  }
 ],
 "metadata": {
  "kernelspec": {
   "display_name": "Python 3",
   "language": "python",
   "name": "python3"
  },
  "language_info": {
   "codemirror_mode": {
    "name": "ipython",
    "version": 2
   },
   "file_extension": ".py",
   "mimetype": "text/x-python",
   "name": "python",
   "nbconvert_exporter": "python",
   "pygments_lexer": "ipython2",
   "version": "2.7.6"
  }
 },
 "nbformat": 4,
 "nbformat_minor": 5
}
